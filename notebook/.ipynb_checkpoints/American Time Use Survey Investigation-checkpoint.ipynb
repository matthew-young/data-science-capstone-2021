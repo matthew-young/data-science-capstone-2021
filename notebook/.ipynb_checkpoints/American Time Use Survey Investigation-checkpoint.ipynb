{
 "cells": [
  {
   "cell_type": "markdown",
   "metadata": {},
   "source": [
    "to do: \n",
    "\n",
    "- clean up the Clean section\n",
    "- add conclusion"
   ]
  },
  {
   "cell_type": "markdown",
   "metadata": {},
   "source": [
    "# Capstone Project\n",
    "\n",
    "## Project Definition\n",
    "\n",
    "In this project we will investigate the American Time Use Survey (ATUS) and use Singular Value Decomposition to see if we can predict what type of occupation someone has based on how they spend their day. We will also take a quick look to see if the data supports Stanley Robert Parker's thesis in **The Future of Work and Leisure** people who have more say in decision-making at their jobs (autonomy) participate in more active leisure activities than those who have low autonomy in their jobs.\n",
    "\n",
    "We will answer 3 questions:\n",
    "\n",
    "- Can we predict the occupation type for high or low autonomy occupations based on the categorized activities\n",
    "- Can we predict the occupation type for all occupations on the categorized activities\n",
    "- Can we predict the occupation type for all occupations on the individual activities\n",
    "\n",
    "In order to determine the accuracy of our predictions, we will use the differences between the actual values of the organizations versus the expected values for those occupations."
   ]
  },
  {
   "cell_type": "markdown",
   "metadata": {},
   "source": [
    "## Analysis\n",
    "\n",
    "The structure of this section was inspired by [Paula Hwang](https://github.com/hwangmpaula/data-wrangling/blob/master/wrangle_act.ipynb)"
   ]
  },
  {
   "cell_type": "markdown",
   "metadata": {},
   "source": [
    "### Gather\n",
    "\n",
    "Using the ATUS data from [Kaggle](https://www.kaggle.com/bls/american-time-use-survey) we will analyse whether we can predict occupation type from daily activities. \n",
    "\n",
    "The data forms I need are the **Activity summary** file and the **Respondent** file.\n",
    "\n",
    "**Activity summary** from Kaggle:\n",
    "\n",
    "> The Activity summary file contains information about the total time each ATUS respondent spent doing each activity on the diary day.\n",
    "\n",
    "**Respondent** from Kaggle:\n",
    "\n",
    "> The Respondent file contains information about ATUS respondents, including their labor force status and earnings.\n",
    "\n",
    "These are already packaged in neat .csvs for data science use."
   ]
  },
  {
   "cell_type": "code",
   "execution_count": 1,
   "metadata": {},
   "outputs": [],
   "source": [
    "#import libraries\n",
    "import matplotlib.pyplot as plt\n",
    "import pandas as pd\n",
    "import numpy as np\n",
    "import requests\n",
    "\n",
    "# Load datasets\n",
    "ATUS_sum = pd.read_csv('../data/atussum.csv') #The activity summary datafile\n",
    "ATUS_resp = pd.read_csv('../data/atusresp.csv') #The respondent datafile"
   ]
  },
  {
   "cell_type": "markdown",
   "metadata": {},
   "source": [
    "### Assess\n",
    "\n",
    "**1. Quality**\n",
    "(1 issues)\n",
    "  - Remove rows without occupation codes\n",
    "\n",
    "**2. Tidyness**\n",
    "(3 issues)\n",
    "   - Remove unnecessary columns from Respondent\n",
    "   - Remove unnecessary columns from Activity Summary\n",
    "   - Unify into one dataframe\n",
    "   \n",
    "**3. Preparation**\n",
    "(3 issues)\n",
    "   - Create life space categories\n",
    "   - Create categorized dataframe\n",
    "   - Create high and low only categorized dataframe"
   ]
  },
  {
   "cell_type": "code",
   "execution_count": 2,
   "metadata": {},
   "outputs": [
    {
     "data": {
      "text/html": [
       "<div>\n",
       "<style scoped>\n",
       "    .dataframe tbody tr th:only-of-type {\n",
       "        vertical-align: middle;\n",
       "    }\n",
       "\n",
       "    .dataframe tbody tr th {\n",
       "        vertical-align: top;\n",
       "    }\n",
       "\n",
       "    .dataframe thead th {\n",
       "        text-align: right;\n",
       "    }\n",
       "</style>\n",
       "<table border=\"1\" class=\"dataframe\">\n",
       "  <thead>\n",
       "    <tr style=\"text-align: right;\">\n",
       "      <th></th>\n",
       "      <th>tucaseid</th>\n",
       "      <th>gemetsta</th>\n",
       "      <th>gtmetsta</th>\n",
       "      <th>peeduca</th>\n",
       "      <th>pehspnon</th>\n",
       "      <th>ptdtrace</th>\n",
       "      <th>teage</th>\n",
       "      <th>telfs</th>\n",
       "      <th>temjot</th>\n",
       "      <th>teschenr</th>\n",
       "      <th>...</th>\n",
       "      <th>t181801</th>\n",
       "      <th>t181899</th>\n",
       "      <th>t189999</th>\n",
       "      <th>t500101</th>\n",
       "      <th>t500103</th>\n",
       "      <th>t500104</th>\n",
       "      <th>t500105</th>\n",
       "      <th>t500106</th>\n",
       "      <th>t500107</th>\n",
       "      <th>t509989</th>\n",
       "    </tr>\n",
       "  </thead>\n",
       "  <tbody>\n",
       "    <tr>\n",
       "      <th>0</th>\n",
       "      <td>20030100013280</td>\n",
       "      <td>1</td>\n",
       "      <td>-1</td>\n",
       "      <td>44</td>\n",
       "      <td>2</td>\n",
       "      <td>2</td>\n",
       "      <td>60</td>\n",
       "      <td>2</td>\n",
       "      <td>2</td>\n",
       "      <td>-1</td>\n",
       "      <td>...</td>\n",
       "      <td>0</td>\n",
       "      <td>0</td>\n",
       "      <td>0</td>\n",
       "      <td>0</td>\n",
       "      <td>0</td>\n",
       "      <td>0</td>\n",
       "      <td>0</td>\n",
       "      <td>0</td>\n",
       "      <td>0</td>\n",
       "      <td>0</td>\n",
       "    </tr>\n",
       "    <tr>\n",
       "      <th>1</th>\n",
       "      <td>20030100013344</td>\n",
       "      <td>2</td>\n",
       "      <td>-1</td>\n",
       "      <td>40</td>\n",
       "      <td>2</td>\n",
       "      <td>1</td>\n",
       "      <td>41</td>\n",
       "      <td>1</td>\n",
       "      <td>2</td>\n",
       "      <td>2</td>\n",
       "      <td>...</td>\n",
       "      <td>0</td>\n",
       "      <td>0</td>\n",
       "      <td>0</td>\n",
       "      <td>0</td>\n",
       "      <td>0</td>\n",
       "      <td>0</td>\n",
       "      <td>0</td>\n",
       "      <td>0</td>\n",
       "      <td>0</td>\n",
       "      <td>0</td>\n",
       "    </tr>\n",
       "    <tr>\n",
       "      <th>2</th>\n",
       "      <td>20030100013352</td>\n",
       "      <td>1</td>\n",
       "      <td>-1</td>\n",
       "      <td>41</td>\n",
       "      <td>2</td>\n",
       "      <td>1</td>\n",
       "      <td>26</td>\n",
       "      <td>2</td>\n",
       "      <td>2</td>\n",
       "      <td>2</td>\n",
       "      <td>...</td>\n",
       "      <td>0</td>\n",
       "      <td>0</td>\n",
       "      <td>0</td>\n",
       "      <td>0</td>\n",
       "      <td>0</td>\n",
       "      <td>0</td>\n",
       "      <td>0</td>\n",
       "      <td>0</td>\n",
       "      <td>0</td>\n",
       "      <td>0</td>\n",
       "    </tr>\n",
       "    <tr>\n",
       "      <th>3</th>\n",
       "      <td>20030100013848</td>\n",
       "      <td>2</td>\n",
       "      <td>-1</td>\n",
       "      <td>39</td>\n",
       "      <td>2</td>\n",
       "      <td>2</td>\n",
       "      <td>36</td>\n",
       "      <td>4</td>\n",
       "      <td>-1</td>\n",
       "      <td>2</td>\n",
       "      <td>...</td>\n",
       "      <td>0</td>\n",
       "      <td>0</td>\n",
       "      <td>0</td>\n",
       "      <td>0</td>\n",
       "      <td>0</td>\n",
       "      <td>0</td>\n",
       "      <td>0</td>\n",
       "      <td>0</td>\n",
       "      <td>0</td>\n",
       "      <td>0</td>\n",
       "    </tr>\n",
       "    <tr>\n",
       "      <th>4</th>\n",
       "      <td>20030100014165</td>\n",
       "      <td>2</td>\n",
       "      <td>-1</td>\n",
       "      <td>45</td>\n",
       "      <td>2</td>\n",
       "      <td>1</td>\n",
       "      <td>51</td>\n",
       "      <td>1</td>\n",
       "      <td>2</td>\n",
       "      <td>-1</td>\n",
       "      <td>...</td>\n",
       "      <td>0</td>\n",
       "      <td>0</td>\n",
       "      <td>0</td>\n",
       "      <td>0</td>\n",
       "      <td>0</td>\n",
       "      <td>0</td>\n",
       "      <td>0</td>\n",
       "      <td>0</td>\n",
       "      <td>0</td>\n",
       "      <td>0</td>\n",
       "    </tr>\n",
       "    <tr>\n",
       "      <th>5</th>\n",
       "      <td>20030100014169</td>\n",
       "      <td>2</td>\n",
       "      <td>-1</td>\n",
       "      <td>43</td>\n",
       "      <td>2</td>\n",
       "      <td>1</td>\n",
       "      <td>32</td>\n",
       "      <td>2</td>\n",
       "      <td>2</td>\n",
       "      <td>1</td>\n",
       "      <td>...</td>\n",
       "      <td>0</td>\n",
       "      <td>0</td>\n",
       "      <td>0</td>\n",
       "      <td>0</td>\n",
       "      <td>0</td>\n",
       "      <td>0</td>\n",
       "      <td>0</td>\n",
       "      <td>0</td>\n",
       "      <td>0</td>\n",
       "      <td>0</td>\n",
       "    </tr>\n",
       "    <tr>\n",
       "      <th>6</th>\n",
       "      <td>20030100014209</td>\n",
       "      <td>1</td>\n",
       "      <td>-1</td>\n",
       "      <td>39</td>\n",
       "      <td>2</td>\n",
       "      <td>1</td>\n",
       "      <td>44</td>\n",
       "      <td>1</td>\n",
       "      <td>2</td>\n",
       "      <td>2</td>\n",
       "      <td>...</td>\n",
       "      <td>0</td>\n",
       "      <td>0</td>\n",
       "      <td>0</td>\n",
       "      <td>0</td>\n",
       "      <td>0</td>\n",
       "      <td>0</td>\n",
       "      <td>0</td>\n",
       "      <td>0</td>\n",
       "      <td>0</td>\n",
       "      <td>0</td>\n",
       "    </tr>\n",
       "    <tr>\n",
       "      <th>7</th>\n",
       "      <td>20030100014427</td>\n",
       "      <td>1</td>\n",
       "      <td>-1</td>\n",
       "      <td>40</td>\n",
       "      <td>2</td>\n",
       "      <td>1</td>\n",
       "      <td>21</td>\n",
       "      <td>1</td>\n",
       "      <td>2</td>\n",
       "      <td>2</td>\n",
       "      <td>...</td>\n",
       "      <td>0</td>\n",
       "      <td>0</td>\n",
       "      <td>0</td>\n",
       "      <td>0</td>\n",
       "      <td>0</td>\n",
       "      <td>0</td>\n",
       "      <td>0</td>\n",
       "      <td>0</td>\n",
       "      <td>0</td>\n",
       "      <td>0</td>\n",
       "    </tr>\n",
       "    <tr>\n",
       "      <th>8</th>\n",
       "      <td>20030100014550</td>\n",
       "      <td>2</td>\n",
       "      <td>-1</td>\n",
       "      <td>41</td>\n",
       "      <td>2</td>\n",
       "      <td>1</td>\n",
       "      <td>33</td>\n",
       "      <td>1</td>\n",
       "      <td>2</td>\n",
       "      <td>2</td>\n",
       "      <td>...</td>\n",
       "      <td>0</td>\n",
       "      <td>0</td>\n",
       "      <td>0</td>\n",
       "      <td>0</td>\n",
       "      <td>0</td>\n",
       "      <td>0</td>\n",
       "      <td>0</td>\n",
       "      <td>0</td>\n",
       "      <td>0</td>\n",
       "      <td>0</td>\n",
       "    </tr>\n",
       "    <tr>\n",
       "      <th>9</th>\n",
       "      <td>20030100014758</td>\n",
       "      <td>1</td>\n",
       "      <td>-1</td>\n",
       "      <td>41</td>\n",
       "      <td>2</td>\n",
       "      <td>2</td>\n",
       "      <td>39</td>\n",
       "      <td>1</td>\n",
       "      <td>2</td>\n",
       "      <td>2</td>\n",
       "      <td>...</td>\n",
       "      <td>0</td>\n",
       "      <td>0</td>\n",
       "      <td>0</td>\n",
       "      <td>0</td>\n",
       "      <td>0</td>\n",
       "      <td>0</td>\n",
       "      <td>0</td>\n",
       "      <td>0</td>\n",
       "      <td>0</td>\n",
       "      <td>0</td>\n",
       "    </tr>\n",
       "  </tbody>\n",
       "</table>\n",
       "<p>10 rows × 455 columns</p>\n",
       "</div>"
      ],
      "text/plain": [
       "         tucaseid  gemetsta  gtmetsta  peeduca  pehspnon  ptdtrace  teage  \\\n",
       "0  20030100013280         1        -1       44         2         2     60   \n",
       "1  20030100013344         2        -1       40         2         1     41   \n",
       "2  20030100013352         1        -1       41         2         1     26   \n",
       "3  20030100013848         2        -1       39         2         2     36   \n",
       "4  20030100014165         2        -1       45         2         1     51   \n",
       "5  20030100014169         2        -1       43         2         1     32   \n",
       "6  20030100014209         1        -1       39         2         1     44   \n",
       "7  20030100014427         1        -1       40         2         1     21   \n",
       "8  20030100014550         2        -1       41         2         1     33   \n",
       "9  20030100014758         1        -1       41         2         2     39   \n",
       "\n",
       "   telfs  temjot  teschenr  ...  t181801  t181899  t189999  t500101  t500103  \\\n",
       "0      2       2        -1  ...        0        0        0        0        0   \n",
       "1      1       2         2  ...        0        0        0        0        0   \n",
       "2      2       2         2  ...        0        0        0        0        0   \n",
       "3      4      -1         2  ...        0        0        0        0        0   \n",
       "4      1       2        -1  ...        0        0        0        0        0   \n",
       "5      2       2         1  ...        0        0        0        0        0   \n",
       "6      1       2         2  ...        0        0        0        0        0   \n",
       "7      1       2         2  ...        0        0        0        0        0   \n",
       "8      1       2         2  ...        0        0        0        0        0   \n",
       "9      1       2         2  ...        0        0        0        0        0   \n",
       "\n",
       "   t500104  t500105  t500106  t500107  t509989  \n",
       "0        0        0        0        0        0  \n",
       "1        0        0        0        0        0  \n",
       "2        0        0        0        0        0  \n",
       "3        0        0        0        0        0  \n",
       "4        0        0        0        0        0  \n",
       "5        0        0        0        0        0  \n",
       "6        0        0        0        0        0  \n",
       "7        0        0        0        0        0  \n",
       "8        0        0        0        0        0  \n",
       "9        0        0        0        0        0  \n",
       "\n",
       "[10 rows x 455 columns]"
      ]
     },
     "execution_count": 2,
     "metadata": {},
     "output_type": "execute_result"
    }
   ],
   "source": [
    "# A quick visual of the activity summary dataframe\n",
    "ATUS_sum.head(10)"
   ]
  },
  {
   "cell_type": "code",
   "execution_count": 3,
   "metadata": {},
   "outputs": [
    {
     "data": {
      "text/plain": [
       "(170842, 455)"
      ]
     },
     "execution_count": 3,
     "metadata": {},
     "output_type": "execute_result"
    }
   ],
   "source": [
    "# Get the shape of the activity summary data\n",
    "ATUS_sum.shape"
   ]
  },
  {
   "cell_type": "code",
   "execution_count": 4,
   "metadata": {},
   "outputs": [
    {
     "data": {
      "text/plain": [
       "170842"
      ]
     },
     "execution_count": 4,
     "metadata": {},
     "output_type": "execute_result"
    }
   ],
   "source": [
    "# Check the case ids for uniqueness\n",
    "ATUS_sum.tucaseid.nunique()"
   ]
  },
  {
   "cell_type": "code",
   "execution_count": 5,
   "metadata": {},
   "outputs": [
    {
     "data": {
      "text/plain": [
       "['tucaseid',\n",
       " 'gemetsta',\n",
       " 'gtmetsta',\n",
       " 'peeduca',\n",
       " 'pehspnon',\n",
       " 'ptdtrace',\n",
       " 'teage',\n",
       " 'telfs',\n",
       " 'temjot',\n",
       " 'teschenr',\n",
       " 'teschlvl',\n",
       " 'tesex',\n",
       " 'tespempnot',\n",
       " 'trchildnum',\n",
       " 'trdpftpt',\n",
       " 'trernwa',\n",
       " 'trholiday',\n",
       " 'trspftpt',\n",
       " 'trsppres',\n",
       " 'tryhhchild',\n",
       " 'tudiaryday',\n",
       " 'tufnwgtp',\n",
       " 'tehruslt',\n",
       " 'tuyear',\n",
       " 't010101',\n",
       " 't010102',\n",
       " 't010199',\n",
       " 't010201',\n",
       " 't010299',\n",
       " 't010301']"
      ]
     },
     "execution_count": 5,
     "metadata": {},
     "output_type": "execute_result"
    }
   ],
   "source": [
    "# Looks good. Now to figure out which is the first column with activity information\n",
    "ATUS_sum_columns = ATUS_sum.columns.to_list()\n",
    "ATUS_sum_columns[:30]"
   ]
  },
  {
   "cell_type": "code",
   "execution_count": 6,
   "metadata": {},
   "outputs": [],
   "source": [
    "# 't010101' is the first activity column (which matches the data dictionary)\n",
    "# Setting it's location in a variable for later\n",
    "act_start = ATUS_sum_columns.index('t010101')"
   ]
  },
  {
   "cell_type": "code",
   "execution_count": 7,
   "metadata": {},
   "outputs": [
    {
     "data": {
      "text/plain": [
       "t509989    0\n",
       "t060101    0\n",
       "t060103    0\n",
       "t060104    0\n",
       "t060199    0\n",
       "          ..\n",
       "t130136    0\n",
       "t130199    0\n",
       "t130201    0\n",
       "t130202    0\n",
       "t010101    0\n",
       "Length: 431, dtype: int64"
      ]
     },
     "execution_count": 7,
     "metadata": {},
     "output_type": "execute_result"
    }
   ],
   "source": [
    "# Checking for any NaN values in the data I'll be using\n",
    "ATUS_sum[ATUS_sum_columns[act_start:]].isnull().sum().sort_values(ascending=False)"
   ]
  },
  {
   "cell_type": "code",
   "execution_count": 8,
   "metadata": {
    "scrolled": true
   },
   "outputs": [
    {
     "data": {
      "text/plain": [
       "480     10495\n",
       "540     10296\n",
       "510      8708\n",
       "600      7467\n",
       "450      7225\n",
       "        ...  \n",
       "1088        1\n",
       "961         1\n",
       "1089        1\n",
       "1345        1\n",
       "1023        1\n",
       "Name: t010101, Length: 1120, dtype: int64"
      ]
     },
     "execution_count": 8,
     "metadata": {},
     "output_type": "execute_result"
    }
   ],
   "source": [
    "# No NaNs, good sign.\n",
    "# Lets take a look at the most common values for the sleep category (t010101)\n",
    "ATUS_sum['t010101'].value_counts()"
   ]
  },
  {
   "cell_type": "code",
   "execution_count": 9,
   "metadata": {},
   "outputs": [
    {
     "data": {
      "text/html": [
       "<div>\n",
       "<style scoped>\n",
       "    .dataframe tbody tr th:only-of-type {\n",
       "        vertical-align: middle;\n",
       "    }\n",
       "\n",
       "    .dataframe tbody tr th {\n",
       "        vertical-align: top;\n",
       "    }\n",
       "\n",
       "    .dataframe thead th {\n",
       "        text-align: right;\n",
       "    }\n",
       "</style>\n",
       "<table border=\"1\" class=\"dataframe\">\n",
       "  <thead>\n",
       "    <tr style=\"text-align: right;\">\n",
       "      <th></th>\n",
       "      <th>tucaseid</th>\n",
       "      <th>tulineno</th>\n",
       "      <th>tespuhrs</th>\n",
       "      <th>trdtind1</th>\n",
       "      <th>trdtocc1</th>\n",
       "      <th>trernhly</th>\n",
       "      <th>trernupd</th>\n",
       "      <th>trhernal</th>\n",
       "      <th>trhhchild</th>\n",
       "      <th>trimind1</th>\n",
       "      <th>...</th>\n",
       "      <th>tryhhchild</th>\n",
       "      <th>trwbmodr</th>\n",
       "      <th>trtalone_wk</th>\n",
       "      <th>trtccc_wk</th>\n",
       "      <th>trlvmodr</th>\n",
       "      <th>trtec</th>\n",
       "      <th>tuecytd</th>\n",
       "      <th>tuelder</th>\n",
       "      <th>tuelfreq</th>\n",
       "      <th>tuelnum</th>\n",
       "    </tr>\n",
       "  </thead>\n",
       "  <tbody>\n",
       "    <tr>\n",
       "      <th>0</th>\n",
       "      <td>20030100013280</td>\n",
       "      <td>1</td>\n",
       "      <td>-1.0</td>\n",
       "      <td>40</td>\n",
       "      <td>8</td>\n",
       "      <td>2200.0</td>\n",
       "      <td>1</td>\n",
       "      <td>1</td>\n",
       "      <td>2</td>\n",
       "      <td>15</td>\n",
       "      <td>...</td>\n",
       "      <td>-1</td>\n",
       "      <td>-1</td>\n",
       "      <td>-1</td>\n",
       "      <td>-1</td>\n",
       "      <td>-1</td>\n",
       "      <td>-1</td>\n",
       "      <td>-1</td>\n",
       "      <td>-1</td>\n",
       "      <td>-1</td>\n",
       "      <td>-1</td>\n",
       "    </tr>\n",
       "    <tr>\n",
       "      <th>1</th>\n",
       "      <td>20030100013344</td>\n",
       "      <td>1</td>\n",
       "      <td>50.0</td>\n",
       "      <td>16</td>\n",
       "      <td>16</td>\n",
       "      <td>-1.0</td>\n",
       "      <td>1</td>\n",
       "      <td>-1</td>\n",
       "      <td>1</td>\n",
       "      <td>5</td>\n",
       "      <td>...</td>\n",
       "      <td>0</td>\n",
       "      <td>-1</td>\n",
       "      <td>-1</td>\n",
       "      <td>-1</td>\n",
       "      <td>-1</td>\n",
       "      <td>-1</td>\n",
       "      <td>-1</td>\n",
       "      <td>-1</td>\n",
       "      <td>-1</td>\n",
       "      <td>-1</td>\n",
       "    </tr>\n",
       "    <tr>\n",
       "      <th>2</th>\n",
       "      <td>20030100013352</td>\n",
       "      <td>1</td>\n",
       "      <td>-1.0</td>\n",
       "      <td>43</td>\n",
       "      <td>15</td>\n",
       "      <td>1250.0</td>\n",
       "      <td>0</td>\n",
       "      <td>0</td>\n",
       "      <td>2</td>\n",
       "      <td>16</td>\n",
       "      <td>...</td>\n",
       "      <td>-1</td>\n",
       "      <td>-1</td>\n",
       "      <td>-1</td>\n",
       "      <td>-1</td>\n",
       "      <td>-1</td>\n",
       "      <td>-1</td>\n",
       "      <td>-1</td>\n",
       "      <td>-1</td>\n",
       "      <td>-1</td>\n",
       "      <td>-1</td>\n",
       "    </tr>\n",
       "    <tr>\n",
       "      <th>3</th>\n",
       "      <td>20030100013848</td>\n",
       "      <td>1</td>\n",
       "      <td>40.0</td>\n",
       "      <td>-1</td>\n",
       "      <td>-1</td>\n",
       "      <td>-1.0</td>\n",
       "      <td>-1</td>\n",
       "      <td>-1</td>\n",
       "      <td>1</td>\n",
       "      <td>-1</td>\n",
       "      <td>...</td>\n",
       "      <td>9</td>\n",
       "      <td>-1</td>\n",
       "      <td>-1</td>\n",
       "      <td>-1</td>\n",
       "      <td>-1</td>\n",
       "      <td>-1</td>\n",
       "      <td>-1</td>\n",
       "      <td>-1</td>\n",
       "      <td>-1</td>\n",
       "      <td>-1</td>\n",
       "    </tr>\n",
       "    <tr>\n",
       "      <th>4</th>\n",
       "      <td>20030100014165</td>\n",
       "      <td>1</td>\n",
       "      <td>-1.0</td>\n",
       "      <td>42</td>\n",
       "      <td>10</td>\n",
       "      <td>-1.0</td>\n",
       "      <td>-1</td>\n",
       "      <td>-1</td>\n",
       "      <td>1</td>\n",
       "      <td>16</td>\n",
       "      <td>...</td>\n",
       "      <td>14</td>\n",
       "      <td>-1</td>\n",
       "      <td>-1</td>\n",
       "      <td>-1</td>\n",
       "      <td>-1</td>\n",
       "      <td>-1</td>\n",
       "      <td>-1</td>\n",
       "      <td>-1</td>\n",
       "      <td>-1</td>\n",
       "      <td>-1</td>\n",
       "    </tr>\n",
       "    <tr>\n",
       "      <th>5</th>\n",
       "      <td>20030100014169</td>\n",
       "      <td>1</td>\n",
       "      <td>40.0</td>\n",
       "      <td>40</td>\n",
       "      <td>8</td>\n",
       "      <td>-1.0</td>\n",
       "      <td>1</td>\n",
       "      <td>-1</td>\n",
       "      <td>1</td>\n",
       "      <td>15</td>\n",
       "      <td>...</td>\n",
       "      <td>2</td>\n",
       "      <td>-1</td>\n",
       "      <td>-1</td>\n",
       "      <td>-1</td>\n",
       "      <td>-1</td>\n",
       "      <td>-1</td>\n",
       "      <td>-1</td>\n",
       "      <td>-1</td>\n",
       "      <td>-1</td>\n",
       "      <td>-1</td>\n",
       "    </tr>\n",
       "    <tr>\n",
       "      <th>6</th>\n",
       "      <td>20030100014209</td>\n",
       "      <td>1</td>\n",
       "      <td>50.0</td>\n",
       "      <td>43</td>\n",
       "      <td>15</td>\n",
       "      <td>-1.0</td>\n",
       "      <td>-1</td>\n",
       "      <td>-1</td>\n",
       "      <td>1</td>\n",
       "      <td>16</td>\n",
       "      <td>...</td>\n",
       "      <td>9</td>\n",
       "      <td>-1</td>\n",
       "      <td>-1</td>\n",
       "      <td>-1</td>\n",
       "      <td>-1</td>\n",
       "      <td>-1</td>\n",
       "      <td>-1</td>\n",
       "      <td>-1</td>\n",
       "      <td>-1</td>\n",
       "      <td>-1</td>\n",
       "    </tr>\n",
       "    <tr>\n",
       "      <th>7</th>\n",
       "      <td>20030100014427</td>\n",
       "      <td>1</td>\n",
       "      <td>-1.0</td>\n",
       "      <td>41</td>\n",
       "      <td>11</td>\n",
       "      <td>950.0</td>\n",
       "      <td>0</td>\n",
       "      <td>0</td>\n",
       "      <td>1</td>\n",
       "      <td>16</td>\n",
       "      <td>...</td>\n",
       "      <td>14</td>\n",
       "      <td>-1</td>\n",
       "      <td>-1</td>\n",
       "      <td>-1</td>\n",
       "      <td>-1</td>\n",
       "      <td>-1</td>\n",
       "      <td>-1</td>\n",
       "      <td>-1</td>\n",
       "      <td>-1</td>\n",
       "      <td>-1</td>\n",
       "    </tr>\n",
       "    <tr>\n",
       "      <th>8</th>\n",
       "      <td>20030100014550</td>\n",
       "      <td>1</td>\n",
       "      <td>40.0</td>\n",
       "      <td>34</td>\n",
       "      <td>17</td>\n",
       "      <td>1400.0</td>\n",
       "      <td>0</td>\n",
       "      <td>0</td>\n",
       "      <td>1</td>\n",
       "      <td>12</td>\n",
       "      <td>...</td>\n",
       "      <td>3</td>\n",
       "      <td>-1</td>\n",
       "      <td>-1</td>\n",
       "      <td>-1</td>\n",
       "      <td>-1</td>\n",
       "      <td>-1</td>\n",
       "      <td>-1</td>\n",
       "      <td>-1</td>\n",
       "      <td>-1</td>\n",
       "      <td>-1</td>\n",
       "    </tr>\n",
       "    <tr>\n",
       "      <th>9</th>\n",
       "      <td>20030100014758</td>\n",
       "      <td>1</td>\n",
       "      <td>-1.0</td>\n",
       "      <td>41</td>\n",
       "      <td>11</td>\n",
       "      <td>1200.0</td>\n",
       "      <td>0</td>\n",
       "      <td>0</td>\n",
       "      <td>1</td>\n",
       "      <td>16</td>\n",
       "      <td>...</td>\n",
       "      <td>4</td>\n",
       "      <td>-1</td>\n",
       "      <td>-1</td>\n",
       "      <td>-1</td>\n",
       "      <td>-1</td>\n",
       "      <td>-1</td>\n",
       "      <td>-1</td>\n",
       "      <td>-1</td>\n",
       "      <td>-1</td>\n",
       "      <td>-1</td>\n",
       "    </tr>\n",
       "  </tbody>\n",
       "</table>\n",
       "<p>10 rows × 132 columns</p>\n",
       "</div>"
      ],
      "text/plain": [
       "         tucaseid  tulineno  tespuhrs  trdtind1  trdtocc1  trernhly  trernupd  \\\n",
       "0  20030100013280         1      -1.0        40         8    2200.0         1   \n",
       "1  20030100013344         1      50.0        16        16      -1.0         1   \n",
       "2  20030100013352         1      -1.0        43        15    1250.0         0   \n",
       "3  20030100013848         1      40.0        -1        -1      -1.0        -1   \n",
       "4  20030100014165         1      -1.0        42        10      -1.0        -1   \n",
       "5  20030100014169         1      40.0        40         8      -1.0         1   \n",
       "6  20030100014209         1      50.0        43        15      -1.0        -1   \n",
       "7  20030100014427         1      -1.0        41        11     950.0         0   \n",
       "8  20030100014550         1      40.0        34        17    1400.0         0   \n",
       "9  20030100014758         1      -1.0        41        11    1200.0         0   \n",
       "\n",
       "   trhernal  trhhchild  trimind1  ...  tryhhchild  trwbmodr  trtalone_wk  \\\n",
       "0         1          2        15  ...          -1        -1           -1   \n",
       "1        -1          1         5  ...           0        -1           -1   \n",
       "2         0          2        16  ...          -1        -1           -1   \n",
       "3        -1          1        -1  ...           9        -1           -1   \n",
       "4        -1          1        16  ...          14        -1           -1   \n",
       "5        -1          1        15  ...           2        -1           -1   \n",
       "6        -1          1        16  ...           9        -1           -1   \n",
       "7         0          1        16  ...          14        -1           -1   \n",
       "8         0          1        12  ...           3        -1           -1   \n",
       "9         0          1        16  ...           4        -1           -1   \n",
       "\n",
       "   trtccc_wk  trlvmodr  trtec  tuecytd  tuelder  tuelfreq  tuelnum  \n",
       "0         -1        -1     -1       -1       -1        -1       -1  \n",
       "1         -1        -1     -1       -1       -1        -1       -1  \n",
       "2         -1        -1     -1       -1       -1        -1       -1  \n",
       "3         -1        -1     -1       -1       -1        -1       -1  \n",
       "4         -1        -1     -1       -1       -1        -1       -1  \n",
       "5         -1        -1     -1       -1       -1        -1       -1  \n",
       "6         -1        -1     -1       -1       -1        -1       -1  \n",
       "7         -1        -1     -1       -1       -1        -1       -1  \n",
       "8         -1        -1     -1       -1       -1        -1       -1  \n",
       "9         -1        -1     -1       -1       -1        -1       -1  \n",
       "\n",
       "[10 rows x 132 columns]"
      ]
     },
     "execution_count": 9,
     "metadata": {},
     "output_type": "execute_result"
    }
   ],
   "source": [
    "# A quick visual of the respondent dataframe\n",
    "ATUS_resp.head(10)"
   ]
  },
  {
   "cell_type": "code",
   "execution_count": 10,
   "metadata": {},
   "outputs": [
    {
     "data": {
      "text/plain": [
       "(170842, 132)"
      ]
     },
     "execution_count": 10,
     "metadata": {},
     "output_type": "execute_result"
    }
   ],
   "source": [
    "#get the shape of the respondent data\n",
    "ATUS_resp.shape"
   ]
  },
  {
   "cell_type": "code",
   "execution_count": 11,
   "metadata": {},
   "outputs": [
    {
     "data": {
      "text/plain": [
       "170842"
      ]
     },
     "execution_count": 11,
     "metadata": {},
     "output_type": "execute_result"
    }
   ],
   "source": [
    "#check the case ids for uniqueness\n",
    "ATUS_resp.tucaseid.nunique()"
   ]
  },
  {
   "cell_type": "code",
   "execution_count": 12,
   "metadata": {},
   "outputs": [
    {
     "data": {
      "text/plain": [
       "-1     64220\n",
       " 17    14068\n",
       " 1     12867\n",
       " 16    10649\n",
       " 8      7735\n",
       " 10     6174\n",
       " 21     6078\n",
       " 22     5504\n",
       " 2      5288\n",
       " 19     4775\n",
       " 13     4337\n",
       " 14     3966\n",
       " 15     3796\n",
       " 20     3399\n",
       " 3      3115\n",
       " 11     2463\n",
       " 4      2336\n",
       " 12     2246\n",
       " 9      2238\n",
       " 6      2124\n",
       " 7      1462\n",
       " 5      1226\n",
       " 18      776\n",
       "Name: trdtocc1, dtype: int64"
      ]
     },
     "execution_count": 12,
     "metadata": {},
     "output_type": "execute_result"
    }
   ],
   "source": [
    "#check how many rows are without an occupation code (trdtocc1), which is listed in the data as -1\n",
    "ATUS_resp['trdtocc1'].value_counts()"
   ]
  },
  {
   "cell_type": "markdown",
   "metadata": {},
   "source": [
    "Unfortunately, most of the occupation cells are blank.\n",
    "\n",
    "Lastly, in order to answer the questions, we need to categorize the activites into Parker's six 'life space' categories. More on this in section **3.1** of the **Clean** section below."
   ]
  },
  {
   "cell_type": "markdown",
   "metadata": {},
   "source": [
    "### Clean\n",
    "\n",
    "Method for each issue in Assess\n",
    "\n",
    " - Define the problem\n",
    " - Code the solution\n",
    " - Test the solution"
   ]
  },
  {
   "cell_type": "markdown",
   "metadata": {},
   "source": [
    "**1.1 Remove rows without occupation codes - Define**"
   ]
  },
  {
   "cell_type": "markdown",
   "metadata": {},
   "source": [
    "Rows without occupation codes are not useful in this investigation. All rows with `-1` in the `trdtocc1` tab need to be removed."
   ]
  },
  {
   "cell_type": "markdown",
   "metadata": {},
   "source": [
    "**1.1 Remove rows without occupation codes - Code**"
   ]
  },
  {
   "cell_type": "code",
   "execution_count": 15,
   "metadata": {},
   "outputs": [],
   "source": [
    "ATUS_resp = ATUS_resp.query('trdtocc1 != -1')"
   ]
  },
  {
   "cell_type": "markdown",
   "metadata": {},
   "source": [
    "**1.1 Remove rows without occupation codes - Test**"
   ]
  },
  {
   "cell_type": "code",
   "execution_count": 16,
   "metadata": {},
   "outputs": [
    {
     "data": {
      "text/plain": [
       "17    14068\n",
       "1     12867\n",
       "16    10649\n",
       "8      7735\n",
       "10     6174\n",
       "21     6078\n",
       "22     5504\n",
       "2      5288\n",
       "19     4775\n",
       "13     4337\n",
       "14     3966\n",
       "15     3796\n",
       "20     3399\n",
       "3      3115\n",
       "11     2463\n",
       "4      2336\n",
       "12     2246\n",
       "9      2238\n",
       "6      2124\n",
       "7      1462\n",
       "5      1226\n",
       "18      776\n",
       "Name: trdtocc1, dtype: int64"
      ]
     },
     "execution_count": 16,
     "metadata": {},
     "output_type": "execute_result"
    }
   ],
   "source": [
    "ATUS_resp.trdtocc1.value_counts()"
   ]
  },
  {
   "cell_type": "markdown",
   "metadata": {},
   "source": [
    "**2.1 Remove unnecessary columns in Respondent - Define**"
   ]
  },
  {
   "cell_type": "markdown",
   "metadata": {},
   "source": [
    "The only row we need from the **Respondent** is the `trdtocc1` column. All others can be removed."
   ]
  },
  {
   "cell_type": "markdown",
   "metadata": {},
   "source": [
    "**2.1 Remove unnecessary columns in Respondent - Code**"
   ]
  },
  {
   "cell_type": "code",
   "execution_count": 13,
   "metadata": {},
   "outputs": [],
   "source": [
    "ATUS_resp = ATUS_resp[['tucaseid','trdtocc1']]"
   ]
  },
  {
   "cell_type": "markdown",
   "metadata": {},
   "source": [
    "**2.1 Remove unnecessary columns in Respondent - Test**"
   ]
  },
  {
   "cell_type": "code",
   "execution_count": 14,
   "metadata": {},
   "outputs": [
    {
     "data": {
      "text/html": [
       "<div>\n",
       "<style scoped>\n",
       "    .dataframe tbody tr th:only-of-type {\n",
       "        vertical-align: middle;\n",
       "    }\n",
       "\n",
       "    .dataframe tbody tr th {\n",
       "        vertical-align: top;\n",
       "    }\n",
       "\n",
       "    .dataframe thead th {\n",
       "        text-align: right;\n",
       "    }\n",
       "</style>\n",
       "<table border=\"1\" class=\"dataframe\">\n",
       "  <thead>\n",
       "    <tr style=\"text-align: right;\">\n",
       "      <th></th>\n",
       "      <th>tucaseid</th>\n",
       "      <th>trdtocc1</th>\n",
       "    </tr>\n",
       "  </thead>\n",
       "  <tbody>\n",
       "    <tr>\n",
       "      <th>0</th>\n",
       "      <td>20030100013280</td>\n",
       "      <td>8</td>\n",
       "    </tr>\n",
       "    <tr>\n",
       "      <th>1</th>\n",
       "      <td>20030100013344</td>\n",
       "      <td>16</td>\n",
       "    </tr>\n",
       "    <tr>\n",
       "      <th>2</th>\n",
       "      <td>20030100013352</td>\n",
       "      <td>15</td>\n",
       "    </tr>\n",
       "    <tr>\n",
       "      <th>3</th>\n",
       "      <td>20030100013848</td>\n",
       "      <td>-1</td>\n",
       "    </tr>\n",
       "    <tr>\n",
       "      <th>4</th>\n",
       "      <td>20030100014165</td>\n",
       "      <td>10</td>\n",
       "    </tr>\n",
       "    <tr>\n",
       "      <th>5</th>\n",
       "      <td>20030100014169</td>\n",
       "      <td>8</td>\n",
       "    </tr>\n",
       "    <tr>\n",
       "      <th>6</th>\n",
       "      <td>20030100014209</td>\n",
       "      <td>15</td>\n",
       "    </tr>\n",
       "    <tr>\n",
       "      <th>7</th>\n",
       "      <td>20030100014427</td>\n",
       "      <td>11</td>\n",
       "    </tr>\n",
       "    <tr>\n",
       "      <th>8</th>\n",
       "      <td>20030100014550</td>\n",
       "      <td>17</td>\n",
       "    </tr>\n",
       "    <tr>\n",
       "      <th>9</th>\n",
       "      <td>20030100014758</td>\n",
       "      <td>11</td>\n",
       "    </tr>\n",
       "  </tbody>\n",
       "</table>\n",
       "</div>"
      ],
      "text/plain": [
       "         tucaseid  trdtocc1\n",
       "0  20030100013280         8\n",
       "1  20030100013344        16\n",
       "2  20030100013352        15\n",
       "3  20030100013848        -1\n",
       "4  20030100014165        10\n",
       "5  20030100014169         8\n",
       "6  20030100014209        15\n",
       "7  20030100014427        11\n",
       "8  20030100014550        17\n",
       "9  20030100014758        11"
      ]
     },
     "execution_count": 14,
     "metadata": {},
     "output_type": "execute_result"
    }
   ],
   "source": [
    "ATUS_resp.head(10)"
   ]
  },
  {
   "cell_type": "markdown",
   "metadata": {},
   "source": [
    "**2.2 Remove unnecessary columns in Activity summary - Define**"
   ]
  },
  {
   "cell_type": "markdown",
   "metadata": {},
   "source": [
    "For **Activity summary** we do not need any columns that contain data on the respondent, We only need to know what their time spent doing the individual activities. We also do not need the last seven columns because they measure entry errors."
   ]
  },
  {
   "cell_type": "markdown",
   "metadata": {},
   "source": [
    "**2.2 Remove unnecessary columns in Activity summary - Code**"
   ]
  },
  {
   "cell_type": "code",
   "execution_count": 17,
   "metadata": {},
   "outputs": [],
   "source": [
    "#remove non-activity columns\n",
    "ATUS_sum = ATUS_sum.drop(columns=ATUS_sum_columns[1:act_start])\n",
    "#remove the entry error activity columns (t5#####)\n",
    "ATUS_sum = ATUS_sum.drop(columns=ATUS_sum_columns[-7:])"
   ]
  },
  {
   "cell_type": "markdown",
   "metadata": {},
   "source": [
    "**2.2 Remove unnecessary columns in Activity summary - Test**"
   ]
  },
  {
   "cell_type": "code",
   "execution_count": 18,
   "metadata": {},
   "outputs": [
    {
     "data": {
      "text/html": [
       "<div>\n",
       "<style scoped>\n",
       "    .dataframe tbody tr th:only-of-type {\n",
       "        vertical-align: middle;\n",
       "    }\n",
       "\n",
       "    .dataframe tbody tr th {\n",
       "        vertical-align: top;\n",
       "    }\n",
       "\n",
       "    .dataframe thead th {\n",
       "        text-align: right;\n",
       "    }\n",
       "</style>\n",
       "<table border=\"1\" class=\"dataframe\">\n",
       "  <thead>\n",
       "    <tr style=\"text-align: right;\">\n",
       "      <th></th>\n",
       "      <th>tucaseid</th>\n",
       "      <th>t010101</th>\n",
       "      <th>t010102</th>\n",
       "      <th>t010199</th>\n",
       "      <th>t010201</th>\n",
       "      <th>t010299</th>\n",
       "      <th>t010301</th>\n",
       "      <th>t010399</th>\n",
       "      <th>t010401</th>\n",
       "      <th>t010499</th>\n",
       "      <th>...</th>\n",
       "      <th>t181399</th>\n",
       "      <th>t181401</th>\n",
       "      <th>t181499</th>\n",
       "      <th>t181501</th>\n",
       "      <th>t181599</th>\n",
       "      <th>t181601</th>\n",
       "      <th>t181699</th>\n",
       "      <th>t181801</th>\n",
       "      <th>t181899</th>\n",
       "      <th>t189999</th>\n",
       "    </tr>\n",
       "  </thead>\n",
       "  <tbody>\n",
       "    <tr>\n",
       "      <th>0</th>\n",
       "      <td>20030100013280</td>\n",
       "      <td>870</td>\n",
       "      <td>0</td>\n",
       "      <td>0</td>\n",
       "      <td>40</td>\n",
       "      <td>0</td>\n",
       "      <td>0</td>\n",
       "      <td>0</td>\n",
       "      <td>0</td>\n",
       "      <td>0</td>\n",
       "      <td>...</td>\n",
       "      <td>0</td>\n",
       "      <td>0</td>\n",
       "      <td>0</td>\n",
       "      <td>0</td>\n",
       "      <td>0</td>\n",
       "      <td>0</td>\n",
       "      <td>0</td>\n",
       "      <td>0</td>\n",
       "      <td>0</td>\n",
       "      <td>0</td>\n",
       "    </tr>\n",
       "    <tr>\n",
       "      <th>1</th>\n",
       "      <td>20030100013344</td>\n",
       "      <td>620</td>\n",
       "      <td>0</td>\n",
       "      <td>0</td>\n",
       "      <td>60</td>\n",
       "      <td>0</td>\n",
       "      <td>0</td>\n",
       "      <td>0</td>\n",
       "      <td>0</td>\n",
       "      <td>0</td>\n",
       "      <td>...</td>\n",
       "      <td>0</td>\n",
       "      <td>0</td>\n",
       "      <td>0</td>\n",
       "      <td>0</td>\n",
       "      <td>0</td>\n",
       "      <td>0</td>\n",
       "      <td>0</td>\n",
       "      <td>0</td>\n",
       "      <td>0</td>\n",
       "      <td>0</td>\n",
       "    </tr>\n",
       "    <tr>\n",
       "      <th>2</th>\n",
       "      <td>20030100013352</td>\n",
       "      <td>560</td>\n",
       "      <td>0</td>\n",
       "      <td>0</td>\n",
       "      <td>80</td>\n",
       "      <td>0</td>\n",
       "      <td>0</td>\n",
       "      <td>0</td>\n",
       "      <td>0</td>\n",
       "      <td>0</td>\n",
       "      <td>...</td>\n",
       "      <td>0</td>\n",
       "      <td>0</td>\n",
       "      <td>0</td>\n",
       "      <td>0</td>\n",
       "      <td>0</td>\n",
       "      <td>0</td>\n",
       "      <td>0</td>\n",
       "      <td>0</td>\n",
       "      <td>0</td>\n",
       "      <td>0</td>\n",
       "    </tr>\n",
       "    <tr>\n",
       "      <th>3</th>\n",
       "      <td>20030100013848</td>\n",
       "      <td>720</td>\n",
       "      <td>0</td>\n",
       "      <td>0</td>\n",
       "      <td>35</td>\n",
       "      <td>0</td>\n",
       "      <td>0</td>\n",
       "      <td>0</td>\n",
       "      <td>0</td>\n",
       "      <td>0</td>\n",
       "      <td>...</td>\n",
       "      <td>0</td>\n",
       "      <td>0</td>\n",
       "      <td>0</td>\n",
       "      <td>0</td>\n",
       "      <td>0</td>\n",
       "      <td>0</td>\n",
       "      <td>0</td>\n",
       "      <td>0</td>\n",
       "      <td>0</td>\n",
       "      <td>0</td>\n",
       "    </tr>\n",
       "    <tr>\n",
       "      <th>4</th>\n",
       "      <td>20030100014165</td>\n",
       "      <td>385</td>\n",
       "      <td>0</td>\n",
       "      <td>0</td>\n",
       "      <td>75</td>\n",
       "      <td>0</td>\n",
       "      <td>0</td>\n",
       "      <td>0</td>\n",
       "      <td>0</td>\n",
       "      <td>0</td>\n",
       "      <td>...</td>\n",
       "      <td>0</td>\n",
       "      <td>0</td>\n",
       "      <td>0</td>\n",
       "      <td>0</td>\n",
       "      <td>0</td>\n",
       "      <td>0</td>\n",
       "      <td>0</td>\n",
       "      <td>0</td>\n",
       "      <td>0</td>\n",
       "      <td>0</td>\n",
       "    </tr>\n",
       "  </tbody>\n",
       "</table>\n",
       "<p>5 rows × 425 columns</p>\n",
       "</div>"
      ],
      "text/plain": [
       "         tucaseid  t010101  t010102  t010199  t010201  t010299  t010301  \\\n",
       "0  20030100013280      870        0        0       40        0        0   \n",
       "1  20030100013344      620        0        0       60        0        0   \n",
       "2  20030100013352      560        0        0       80        0        0   \n",
       "3  20030100013848      720        0        0       35        0        0   \n",
       "4  20030100014165      385        0        0       75        0        0   \n",
       "\n",
       "   t010399  t010401  t010499  ...  t181399  t181401  t181499  t181501  \\\n",
       "0        0        0        0  ...        0        0        0        0   \n",
       "1        0        0        0  ...        0        0        0        0   \n",
       "2        0        0        0  ...        0        0        0        0   \n",
       "3        0        0        0  ...        0        0        0        0   \n",
       "4        0        0        0  ...        0        0        0        0   \n",
       "\n",
       "   t181599  t181601  t181699  t181801  t181899  t189999  \n",
       "0        0        0        0        0        0        0  \n",
       "1        0        0        0        0        0        0  \n",
       "2        0        0        0        0        0        0  \n",
       "3        0        0        0        0        0        0  \n",
       "4        0        0        0        0        0        0  \n",
       "\n",
       "[5 rows x 425 columns]"
      ]
     },
     "execution_count": 18,
     "metadata": {},
     "output_type": "execute_result"
    }
   ],
   "source": [
    "ATUS_sum.head()"
   ]
  },
  {
   "cell_type": "markdown",
   "metadata": {},
   "source": [
    "**2.3 Make one new database - Define**"
   ]
  },
  {
   "cell_type": "markdown",
   "metadata": {},
   "source": [
    "We need to join the **Activity summary** and **Respondent** dataframes in order to complete our full analysis."
   ]
  },
  {
   "cell_type": "markdown",
   "metadata": {},
   "source": [
    "**2.3 Make one new database - Code**"
   ]
  },
  {
   "cell_type": "code",
   "execution_count": 19,
   "metadata": {},
   "outputs": [],
   "source": [
    "ATUS_data = ATUS_resp.set_index('tucaseid').join(ATUS_sum.set_index('tucaseid'))"
   ]
  },
  {
   "cell_type": "markdown",
   "metadata": {},
   "source": [
    "**2.3 Make one new database - Test**"
   ]
  },
  {
   "cell_type": "code",
   "execution_count": 20,
   "metadata": {},
   "outputs": [
    {
     "data": {
      "text/html": [
       "<div>\n",
       "<style scoped>\n",
       "    .dataframe tbody tr th:only-of-type {\n",
       "        vertical-align: middle;\n",
       "    }\n",
       "\n",
       "    .dataframe tbody tr th {\n",
       "        vertical-align: top;\n",
       "    }\n",
       "\n",
       "    .dataframe thead th {\n",
       "        text-align: right;\n",
       "    }\n",
       "</style>\n",
       "<table border=\"1\" class=\"dataframe\">\n",
       "  <thead>\n",
       "    <tr style=\"text-align: right;\">\n",
       "      <th></th>\n",
       "      <th>trdtocc1</th>\n",
       "      <th>t010101</th>\n",
       "      <th>t010102</th>\n",
       "      <th>t010199</th>\n",
       "      <th>t010201</th>\n",
       "      <th>t010299</th>\n",
       "      <th>t010301</th>\n",
       "      <th>t010399</th>\n",
       "      <th>t010401</th>\n",
       "      <th>t010499</th>\n",
       "      <th>...</th>\n",
       "      <th>t181399</th>\n",
       "      <th>t181401</th>\n",
       "      <th>t181499</th>\n",
       "      <th>t181501</th>\n",
       "      <th>t181599</th>\n",
       "      <th>t181601</th>\n",
       "      <th>t181699</th>\n",
       "      <th>t181801</th>\n",
       "      <th>t181899</th>\n",
       "      <th>t189999</th>\n",
       "    </tr>\n",
       "    <tr>\n",
       "      <th>tucaseid</th>\n",
       "      <th></th>\n",
       "      <th></th>\n",
       "      <th></th>\n",
       "      <th></th>\n",
       "      <th></th>\n",
       "      <th></th>\n",
       "      <th></th>\n",
       "      <th></th>\n",
       "      <th></th>\n",
       "      <th></th>\n",
       "      <th></th>\n",
       "      <th></th>\n",
       "      <th></th>\n",
       "      <th></th>\n",
       "      <th></th>\n",
       "      <th></th>\n",
       "      <th></th>\n",
       "      <th></th>\n",
       "      <th></th>\n",
       "      <th></th>\n",
       "      <th></th>\n",
       "    </tr>\n",
       "  </thead>\n",
       "  <tbody>\n",
       "    <tr>\n",
       "      <th>20030100013280</th>\n",
       "      <td>8</td>\n",
       "      <td>870</td>\n",
       "      <td>0</td>\n",
       "      <td>0</td>\n",
       "      <td>40</td>\n",
       "      <td>0</td>\n",
       "      <td>0</td>\n",
       "      <td>0</td>\n",
       "      <td>0</td>\n",
       "      <td>0</td>\n",
       "      <td>...</td>\n",
       "      <td>0</td>\n",
       "      <td>0</td>\n",
       "      <td>0</td>\n",
       "      <td>0</td>\n",
       "      <td>0</td>\n",
       "      <td>0</td>\n",
       "      <td>0</td>\n",
       "      <td>0</td>\n",
       "      <td>0</td>\n",
       "      <td>0</td>\n",
       "    </tr>\n",
       "    <tr>\n",
       "      <th>20030100013344</th>\n",
       "      <td>16</td>\n",
       "      <td>620</td>\n",
       "      <td>0</td>\n",
       "      <td>0</td>\n",
       "      <td>60</td>\n",
       "      <td>0</td>\n",
       "      <td>0</td>\n",
       "      <td>0</td>\n",
       "      <td>0</td>\n",
       "      <td>0</td>\n",
       "      <td>...</td>\n",
       "      <td>0</td>\n",
       "      <td>0</td>\n",
       "      <td>0</td>\n",
       "      <td>0</td>\n",
       "      <td>0</td>\n",
       "      <td>0</td>\n",
       "      <td>0</td>\n",
       "      <td>0</td>\n",
       "      <td>0</td>\n",
       "      <td>0</td>\n",
       "    </tr>\n",
       "    <tr>\n",
       "      <th>20030100013352</th>\n",
       "      <td>15</td>\n",
       "      <td>560</td>\n",
       "      <td>0</td>\n",
       "      <td>0</td>\n",
       "      <td>80</td>\n",
       "      <td>0</td>\n",
       "      <td>0</td>\n",
       "      <td>0</td>\n",
       "      <td>0</td>\n",
       "      <td>0</td>\n",
       "      <td>...</td>\n",
       "      <td>0</td>\n",
       "      <td>0</td>\n",
       "      <td>0</td>\n",
       "      <td>0</td>\n",
       "      <td>0</td>\n",
       "      <td>0</td>\n",
       "      <td>0</td>\n",
       "      <td>0</td>\n",
       "      <td>0</td>\n",
       "      <td>0</td>\n",
       "    </tr>\n",
       "    <tr>\n",
       "      <th>20030100014165</th>\n",
       "      <td>10</td>\n",
       "      <td>385</td>\n",
       "      <td>0</td>\n",
       "      <td>0</td>\n",
       "      <td>75</td>\n",
       "      <td>0</td>\n",
       "      <td>0</td>\n",
       "      <td>0</td>\n",
       "      <td>0</td>\n",
       "      <td>0</td>\n",
       "      <td>...</td>\n",
       "      <td>0</td>\n",
       "      <td>0</td>\n",
       "      <td>0</td>\n",
       "      <td>0</td>\n",
       "      <td>0</td>\n",
       "      <td>0</td>\n",
       "      <td>0</td>\n",
       "      <td>0</td>\n",
       "      <td>0</td>\n",
       "      <td>0</td>\n",
       "    </tr>\n",
       "    <tr>\n",
       "      <th>20030100014169</th>\n",
       "      <td>8</td>\n",
       "      <td>675</td>\n",
       "      <td>0</td>\n",
       "      <td>0</td>\n",
       "      <td>35</td>\n",
       "      <td>0</td>\n",
       "      <td>0</td>\n",
       "      <td>0</td>\n",
       "      <td>0</td>\n",
       "      <td>0</td>\n",
       "      <td>...</td>\n",
       "      <td>0</td>\n",
       "      <td>0</td>\n",
       "      <td>0</td>\n",
       "      <td>0</td>\n",
       "      <td>0</td>\n",
       "      <td>0</td>\n",
       "      <td>0</td>\n",
       "      <td>0</td>\n",
       "      <td>0</td>\n",
       "      <td>0</td>\n",
       "    </tr>\n",
       "  </tbody>\n",
       "</table>\n",
       "<p>5 rows × 425 columns</p>\n",
       "</div>"
      ],
      "text/plain": [
       "                trdtocc1  t010101  t010102  t010199  t010201  t010299  \\\n",
       "tucaseid                                                                \n",
       "20030100013280         8      870        0        0       40        0   \n",
       "20030100013344        16      620        0        0       60        0   \n",
       "20030100013352        15      560        0        0       80        0   \n",
       "20030100014165        10      385        0        0       75        0   \n",
       "20030100014169         8      675        0        0       35        0   \n",
       "\n",
       "                t010301  t010399  t010401  t010499  ...  t181399  t181401  \\\n",
       "tucaseid                                            ...                     \n",
       "20030100013280        0        0        0        0  ...        0        0   \n",
       "20030100013344        0        0        0        0  ...        0        0   \n",
       "20030100013352        0        0        0        0  ...        0        0   \n",
       "20030100014165        0        0        0        0  ...        0        0   \n",
       "20030100014169        0        0        0        0  ...        0        0   \n",
       "\n",
       "                t181499  t181501  t181599  t181601  t181699  t181801  t181899  \\\n",
       "tucaseid                                                                        \n",
       "20030100013280        0        0        0        0        0        0        0   \n",
       "20030100013344        0        0        0        0        0        0        0   \n",
       "20030100013352        0        0        0        0        0        0        0   \n",
       "20030100014165        0        0        0        0        0        0        0   \n",
       "20030100014169        0        0        0        0        0        0        0   \n",
       "\n",
       "                t189999  \n",
       "tucaseid                 \n",
       "20030100013280        0  \n",
       "20030100013344        0  \n",
       "20030100013352        0  \n",
       "20030100014165        0  \n",
       "20030100014169        0  \n",
       "\n",
       "[5 rows x 425 columns]"
      ]
     },
     "execution_count": 20,
     "metadata": {},
     "output_type": "execute_result"
    }
   ],
   "source": [
    "ATUS_data.head()"
   ]
  },
  {
   "cell_type": "code",
   "execution_count": 21,
   "metadata": {},
   "outputs": [
    {
     "data": {
      "text/plain": [
       "(106622, 425)"
      ]
     },
     "execution_count": 21,
     "metadata": {},
     "output_type": "execute_result"
    }
   ],
   "source": [
    "#check for correct shape\n",
    "ATUS_data.shape"
   ]
  },
  {
   "cell_type": "markdown",
   "metadata": {},
   "source": [
    "**3.1 Create life space categories - Define**"
   ]
  },
  {
   "cell_type": "markdown",
   "metadata": {},
   "source": [
    "Stanley Robert Parker's **The Future of Work and Leisure** (1971) lays out six components of 'life space': **Work**, **Work obligations**, **Physiological needs**, **Non-work obligations**, **Leisure**, **Leisure-in-work**.\n",
    "\n",
    "According to Parker:\n",
    ">'Life space' means the total of activities or ways of spending time that people have.\n",
    "\t\n",
    "I've classified the activities included in the American Time Use Survey in these categories, I have listed the breakdown below.\n",
    "\n",
    "**Work**\n",
    "_working time, sold time, substinence time_\n",
    "\n",
    "Time spent in employment, 'earning a living' for the worker and their dependants. \n",
    "\n",
    "\n",
    "**Work obligations**\n",
    "_Work-related time_\n",
    "\n",
    "Activities around work, but not during employment. Examples include communting to work or grooming for work.\n",
    "\n",
    "\n",
    "\n",
    "**Physiological needs**\n",
    "_Existence time_\n",
    "\n",
    "The necessitities of life, eating, sleeping, eliminating, etc.\n",
    "\n",
    "\n",
    "**Non-work obligations**\n",
    "_semi-work_\n",
    "\n",
    "Activities that we once leisure but have taken the character of obligations. These are often obligations toward other people. \n",
    "\n",
    "**Leisure**\n",
    "_free time, spare time, uncommitted time, discretionary time, choosing time_\n",
    "\n",
    "With two subcategories, **Active leisure** and **Passive leisure**.\n",
    "\n",
    "**Active leisure** is more engaged and creative.\n",
    "\n",
    "\n",
    "**Passive leisure** is more consumptive and less engaged\n",
    "\n",
    "\n",
    "For simplicity's sake, **Leisure-in-work** will be classified with **Work obligations**."
   ]
  },
  {
   "cell_type": "markdown",
   "metadata": {},
   "source": [
    "**3.1 Create life space categories - Code**"
   ]
  },
  {
   "cell_type": "code",
   "execution_count": 22,
   "metadata": {},
   "outputs": [],
   "source": [
    "#get the list of columns\n",
    "data_columns = ATUS_data.columns.tolist()\n",
    "#remove occupation (trdtocc1) column\n",
    "data_columns.pop(0)\n",
    "\n",
    "#create new lists\n",
    "work = []\n",
    "work_obligations = []\n",
    "physiological_needs = []\n",
    "non_work_obligations = []\n",
    "active_leisure = []\n",
    "passive_leisure = []\n",
    "\n",
    "for i in range(len(data_columns)):\n",
    "    #classify into work\n",
    "    if data_columns[i] == \"t050101\":\n",
    "        work.append(data_columns[i])\n",
    "    #classify into work obligations\n",
    "    elif ((data_columns[i].find('t05') != -1) and (data_columns[i] != '150501')) or (data_columns[i] == 't180501'):\n",
    "        work_obligations.append(data_columns[i])\n",
    "    #classify into physiological needs\n",
    "    elif (data_columns[i].find('t01') != -1) or (data_columns[i].find('t11') != -1):\n",
    "        physiological_needs.append(data_columns[i])\n",
    "    #classify non-work obligations\n",
    "    elif (data_columns[i].find('t02') != -1) or (data_columns[i].find('t03') != -1):\n",
    "        non_work_obligations.append(data_columns[i])\n",
    "    elif (data_columns[i].find('t04') != -1) or (data_columns[i].find('t06') != -1):\n",
    "        non_work_obligations.append(data_columns[i])\n",
    "    elif (data_columns[i].find('t06') != -1) or (data_columns[i].find('t08') != -1):\n",
    "        non_work_obligations.append(data_columns[i])\n",
    "    elif (data_columns[i].find('t09') != -1) or (data_columns[i].find('t10') != -1):\n",
    "        non_work_obligations.append(data_columns[i])\n",
    "    elif (data_columns[i].find('t14') != -1) or (data_columns[i].find('t15') != -1):\n",
    "        non_work_obligations.append(data_columns[i])\n",
    "    elif (data_columns[i].find('t16') != -1) or ((data_columns[i].find('t18') != -1) and (data_columns[i] != 't180501')):\n",
    "        non_work_obligations.append(data_columns[i])\n",
    "    #classify active leisure\n",
    "    elif (data_columns[i].find('t1201') != -1) or (data_columns[i].find('t1202') != -1):\n",
    "        active_leisure.append(data_columns[i])\n",
    "    elif (data_columns[i].find('t12031') != -1) or (data_columns[i].find('t12039') != -1):\n",
    "        active_leisure.append(data_columns[i])\n",
    "    elif (data_columns[i].find('t1204') != -1) or (data_columns[i].find('t1205') != -1):\n",
    "        active_leisure.append(data_columns[i])\n",
    "    elif (data_columns[i].find('t1299') != -1) or (data_columns[i].find('t1301') != -1):\n",
    "        active_leisure.append(data_columns[i])\n",
    "    elif (data_columns[i].find('t1399') != -1) or (data_columns[i] == 't120309'):\n",
    "        active_leisure.append(data_columns[i])\n",
    "    #classify passive leisure\n",
    "    elif (data_columns[i].find('t07') != -1) or (data_columns[i].find('t1302') != -1):\n",
    "        passive_leisure.append(data_columns[i])\n",
    "    elif (data_columns[i].find('t1303') != -1) or (data_columns[i].find('t1304') != -1):\n",
    "        passive_leisure.append(data_columns[i])\n",
    "    elif (data_columns[i].find('t12030') != -1) and (data_columns[i] != 't120309'):\n",
    "        passive_leisure.append(data_columns[i])\n"
   ]
  },
  {
   "cell_type": "markdown",
   "metadata": {},
   "source": [
    "**3.1 Create life space categories - Test**"
   ]
  },
  {
   "cell_type": "code",
   "execution_count": 23,
   "metadata": {},
   "outputs": [],
   "source": [
    "#check to see if the categories are equal to the original column numbers\n",
    "assert len(data_columns) == len(work) + len(work_obligations) + len(physiological_needs) + len(non_work_obligations) + len(active_leisure) + len(passive_leisure), 'Lists are unequal'"
   ]
  },
  {
   "cell_type": "markdown",
   "metadata": {},
   "source": [
    "**3.2 Create categorized dataframe - Define**"
   ]
  },
  {
   "cell_type": "markdown",
   "metadata": {},
   "source": [
    "Now that we have the categories set up, we can flatten the columns in those categories and create a new dataframe."
   ]
  },
  {
   "cell_type": "markdown",
   "metadata": {},
   "source": [
    "**3.2 Create categorized dataframe - Code**"
   ]
  },
  {
   "cell_type": "code",
   "execution_count": 24,
   "metadata": {},
   "outputs": [],
   "source": [
    "#Create new dataframe\n",
    "ATUS_category_data = ATUS_data[['trdtocc1','t010101']]"
   ]
  },
  {
   "cell_type": "code",
   "execution_count": 25,
   "metadata": {},
   "outputs": [],
   "source": [
    "#create lists of the categories\n",
    "life_space_categories = [work, work_obligations, physiological_needs, non_work_obligations, active_leisure, passive_leisure]\n",
    "life_space_titles = ['Work', 'Work Obligations', 'Physiological Needs', 'Non-work Obligations', 'Active Leisure', \"Passive Leisure\"]\n",
    "\n",
    "#loop through the dataframe to create new columns\n",
    "for i in range(len(life_space_categories)):\n",
    "    ATUS_category_data.insert(loc=ATUS_category_data.shape[1],column=life_space_titles[i], value=ATUS_data[life_space_categories[i]].sum(axis=1))"
   ]
  },
  {
   "cell_type": "code",
   "execution_count": 26,
   "metadata": {},
   "outputs": [],
   "source": [
    "#drop the t010101 column that was there as a placeholder\n",
    "ATUS_category_data = ATUS_category_data.drop(columns='t010101')"
   ]
  },
  {
   "cell_type": "markdown",
   "metadata": {},
   "source": [
    "**3.2 Create categorized dataframe - Test**"
   ]
  },
  {
   "cell_type": "code",
   "execution_count": 27,
   "metadata": {},
   "outputs": [
    {
     "data": {
      "text/html": [
       "<div>\n",
       "<style scoped>\n",
       "    .dataframe tbody tr th:only-of-type {\n",
       "        vertical-align: middle;\n",
       "    }\n",
       "\n",
       "    .dataframe tbody tr th {\n",
       "        vertical-align: top;\n",
       "    }\n",
       "\n",
       "    .dataframe thead th {\n",
       "        text-align: right;\n",
       "    }\n",
       "</style>\n",
       "<table border=\"1\" class=\"dataframe\">\n",
       "  <thead>\n",
       "    <tr style=\"text-align: right;\">\n",
       "      <th></th>\n",
       "      <th>trdtocc1</th>\n",
       "      <th>Work</th>\n",
       "      <th>Work Obligations</th>\n",
       "      <th>Physiological Needs</th>\n",
       "      <th>Non-work Obligations</th>\n",
       "      <th>Active Leisure</th>\n",
       "      <th>Passive Leisure</th>\n",
       "    </tr>\n",
       "    <tr>\n",
       "      <th>tucaseid</th>\n",
       "      <th></th>\n",
       "      <th></th>\n",
       "      <th></th>\n",
       "      <th></th>\n",
       "      <th></th>\n",
       "      <th></th>\n",
       "      <th></th>\n",
       "    </tr>\n",
       "  </thead>\n",
       "  <tbody>\n",
       "    <tr>\n",
       "      <th>20030100013280</th>\n",
       "      <td>8</td>\n",
       "      <td>0</td>\n",
       "      <td>0</td>\n",
       "      <td>915</td>\n",
       "      <td>0</td>\n",
       "      <td>200</td>\n",
       "      <td>325</td>\n",
       "    </tr>\n",
       "    <tr>\n",
       "      <th>20030100013344</th>\n",
       "      <td>16</td>\n",
       "      <td>0</td>\n",
       "      <td>0</td>\n",
       "      <td>770</td>\n",
       "      <td>80</td>\n",
       "      <td>530</td>\n",
       "      <td>60</td>\n",
       "    </tr>\n",
       "    <tr>\n",
       "      <th>20030100013352</th>\n",
       "      <td>15</td>\n",
       "      <td>0</td>\n",
       "      <td>0</td>\n",
       "      <td>715</td>\n",
       "      <td>325</td>\n",
       "      <td>220</td>\n",
       "      <td>180</td>\n",
       "    </tr>\n",
       "    <tr>\n",
       "      <th>20030100014165</th>\n",
       "      <td>10</td>\n",
       "      <td>500</td>\n",
       "      <td>15</td>\n",
       "      <td>552</td>\n",
       "      <td>253</td>\n",
       "      <td>60</td>\n",
       "      <td>60</td>\n",
       "    </tr>\n",
       "    <tr>\n",
       "      <th>20030100014169</th>\n",
       "      <td>8</td>\n",
       "      <td>0</td>\n",
       "      <td>0</td>\n",
       "      <td>775</td>\n",
       "      <td>360</td>\n",
       "      <td>195</td>\n",
       "      <td>110</td>\n",
       "    </tr>\n",
       "  </tbody>\n",
       "</table>\n",
       "</div>"
      ],
      "text/plain": [
       "                trdtocc1  Work  Work Obligations  Physiological Needs  \\\n",
       "tucaseid                                                                \n",
       "20030100013280         8     0                 0                  915   \n",
       "20030100013344        16     0                 0                  770   \n",
       "20030100013352        15     0                 0                  715   \n",
       "20030100014165        10   500                15                  552   \n",
       "20030100014169         8     0                 0                  775   \n",
       "\n",
       "                Non-work Obligations  Active Leisure  Passive Leisure  \n",
       "tucaseid                                                               \n",
       "20030100013280                     0             200              325  \n",
       "20030100013344                    80             530               60  \n",
       "20030100013352                   325             220              180  \n",
       "20030100014165                   253              60               60  \n",
       "20030100014169                   360             195              110  "
      ]
     },
     "execution_count": 27,
     "metadata": {},
     "output_type": "execute_result"
    }
   ],
   "source": [
    "#take a look\n",
    "ATUS_category_data.head()"
   ]
  },
  {
   "cell_type": "markdown",
   "metadata": {},
   "source": [
    "**3.3 Create high and low only categorized dataframe - Define**"
   ]
  },
  {
   "cell_type": "markdown",
   "metadata": {},
   "source": [
    "For the most simplistic analysis, we will see if the categories predict correctly for the most autonomous category of occupation, Administration (`1`) and a category with a low amount of autonomy Transportation (`22`). For this we need the earlier `ATUS_category_data` with less occupations."
   ]
  },
  {
   "cell_type": "markdown",
   "metadata": {},
   "source": [
    "**3.3 Create high and low only categorized dataframe - Code**"
   ]
  },
  {
   "cell_type": "code",
   "execution_count": 28,
   "metadata": {},
   "outputs": [
    {
     "name": "stderr",
     "output_type": "stream",
     "text": [
      "<ipython-input-28-ab1156a9f5da>:4: SettingWithCopyWarning: \n",
      "A value is trying to be set on a copy of a slice from a DataFrame.\n",
      "Try using .loc[row_indexer,col_indexer] = value instead\n",
      "\n",
      "See the caveats in the documentation: https://pandas.pydata.org/pandas-docs/stable/user_guide/indexing.html#returning-a-view-versus-a-copy\n",
      "  ATUS_category_data_lite['trdtocc1'] = ATUS_category_data_lite['trdtocc1'].replace(22, 2)\n"
     ]
    }
   ],
   "source": [
    "#keep only the occupations we're interested in\n",
    "ATUS_category_data_lite = ATUS_category_data.query('trdtocc1 == 1 or trdtocc1 == 22')\n",
    "#to make things easier, we'll change '22' to 2\n",
    "ATUS_category_data_lite['trdtocc1'] = ATUS_category_data_lite['trdtocc1'].replace(22, 2)"
   ]
  },
  {
   "cell_type": "markdown",
   "metadata": {},
   "source": [
    "**3.3 Create high and low only categorized dataframe - Test**"
   ]
  },
  {
   "cell_type": "code",
   "execution_count": 29,
   "metadata": {},
   "outputs": [
    {
     "data": {
      "text/plain": [
       "1    12867\n",
       "2     5504\n",
       "Name: trdtocc1, dtype: int64"
      ]
     },
     "execution_count": 29,
     "metadata": {},
     "output_type": "execute_result"
    }
   ],
   "source": [
    "ATUS_category_data_lite['trdtocc1'].value_counts()"
   ]
  },
  {
   "cell_type": "code",
   "execution_count": 30,
   "metadata": {},
   "outputs": [
    {
     "data": {
      "text/html": [
       "<div>\n",
       "<style scoped>\n",
       "    .dataframe tbody tr th:only-of-type {\n",
       "        vertical-align: middle;\n",
       "    }\n",
       "\n",
       "    .dataframe tbody tr th {\n",
       "        vertical-align: top;\n",
       "    }\n",
       "\n",
       "    .dataframe thead th {\n",
       "        text-align: right;\n",
       "    }\n",
       "</style>\n",
       "<table border=\"1\" class=\"dataframe\">\n",
       "  <thead>\n",
       "    <tr style=\"text-align: right;\">\n",
       "      <th></th>\n",
       "      <th>Work</th>\n",
       "      <th>Work Obligations</th>\n",
       "      <th>Physiological Needs</th>\n",
       "      <th>Non-work Obligations</th>\n",
       "      <th>Active Leisure</th>\n",
       "      <th>Passive Leisure</th>\n",
       "    </tr>\n",
       "    <tr>\n",
       "      <th>trdtocc1</th>\n",
       "      <th></th>\n",
       "      <th></th>\n",
       "      <th></th>\n",
       "      <th></th>\n",
       "      <th></th>\n",
       "      <th></th>\n",
       "    </tr>\n",
       "  </thead>\n",
       "  <tbody>\n",
       "    <tr>\n",
       "      <th>1</th>\n",
       "      <td>270.683221</td>\n",
       "      <td>31.817362</td>\n",
       "      <td>611.185980</td>\n",
       "      <td>249.244657</td>\n",
       "      <td>91.086267</td>\n",
       "      <td>176.358281</td>\n",
       "    </tr>\n",
       "    <tr>\n",
       "      <th>2</th>\n",
       "      <td>239.279690</td>\n",
       "      <td>30.694024</td>\n",
       "      <td>620.980144</td>\n",
       "      <td>260.142398</td>\n",
       "      <td>93.788011</td>\n",
       "      <td>184.569213</td>\n",
       "    </tr>\n",
       "    <tr>\n",
       "      <th>3</th>\n",
       "      <td>243.123596</td>\n",
       "      <td>30.102408</td>\n",
       "      <td>618.103371</td>\n",
       "      <td>244.128732</td>\n",
       "      <td>92.481862</td>\n",
       "      <td>202.431461</td>\n",
       "    </tr>\n",
       "    <tr>\n",
       "      <th>4</th>\n",
       "      <td>250.236729</td>\n",
       "      <td>31.401541</td>\n",
       "      <td>612.805223</td>\n",
       "      <td>255.783818</td>\n",
       "      <td>92.792380</td>\n",
       "      <td>187.434932</td>\n",
       "    </tr>\n",
       "    <tr>\n",
       "      <th>5</th>\n",
       "      <td>241.923328</td>\n",
       "      <td>29.896411</td>\n",
       "      <td>620.863785</td>\n",
       "      <td>268.460848</td>\n",
       "      <td>99.548940</td>\n",
       "      <td>168.765090</td>\n",
       "    </tr>\n",
       "    <tr>\n",
       "      <th>6</th>\n",
       "      <td>239.540960</td>\n",
       "      <td>33.110640</td>\n",
       "      <td>617.599341</td>\n",
       "      <td>274.206215</td>\n",
       "      <td>85.572976</td>\n",
       "      <td>179.326271</td>\n",
       "    </tr>\n",
       "    <tr>\n",
       "      <th>7</th>\n",
       "      <td>237.874829</td>\n",
       "      <td>31.705198</td>\n",
       "      <td>622.075239</td>\n",
       "      <td>258.822845</td>\n",
       "      <td>106.738714</td>\n",
       "      <td>171.419973</td>\n",
       "    </tr>\n",
       "    <tr>\n",
       "      <th>8</th>\n",
       "      <td>199.003361</td>\n",
       "      <td>26.023917</td>\n",
       "      <td>627.971946</td>\n",
       "      <td>296.603878</td>\n",
       "      <td>102.075760</td>\n",
       "      <td>175.891273</td>\n",
       "    </tr>\n",
       "    <tr>\n",
       "      <th>9</th>\n",
       "      <td>229.446381</td>\n",
       "      <td>35.616175</td>\n",
       "      <td>622.167560</td>\n",
       "      <td>262.750223</td>\n",
       "      <td>100.276586</td>\n",
       "      <td>178.155496</td>\n",
       "    </tr>\n",
       "    <tr>\n",
       "      <th>10</th>\n",
       "      <td>250.895206</td>\n",
       "      <td>30.498380</td>\n",
       "      <td>615.300292</td>\n",
       "      <td>280.425170</td>\n",
       "      <td>88.331552</td>\n",
       "      <td>164.201166</td>\n",
       "    </tr>\n",
       "    <tr>\n",
       "      <th>11</th>\n",
       "      <td>234.394641</td>\n",
       "      <td>29.564758</td>\n",
       "      <td>633.660577</td>\n",
       "      <td>267.683313</td>\n",
       "      <td>76.554608</td>\n",
       "      <td>188.209095</td>\n",
       "    </tr>\n",
       "    <tr>\n",
       "      <th>12</th>\n",
       "      <td>281.542297</td>\n",
       "      <td>36.754230</td>\n",
       "      <td>597.183882</td>\n",
       "      <td>229.334372</td>\n",
       "      <td>80.161175</td>\n",
       "      <td>206.136242</td>\n",
       "    </tr>\n",
       "    <tr>\n",
       "      <th>13</th>\n",
       "      <td>246.934748</td>\n",
       "      <td>28.856813</td>\n",
       "      <td>638.853585</td>\n",
       "      <td>231.996080</td>\n",
       "      <td>75.366152</td>\n",
       "      <td>207.870417</td>\n",
       "    </tr>\n",
       "    <tr>\n",
       "      <th>14</th>\n",
       "      <td>207.004286</td>\n",
       "      <td>32.883258</td>\n",
       "      <td>638.851488</td>\n",
       "      <td>241.199445</td>\n",
       "      <td>75.975038</td>\n",
       "      <td>233.368886</td>\n",
       "    </tr>\n",
       "    <tr>\n",
       "      <th>15</th>\n",
       "      <td>204.252634</td>\n",
       "      <td>27.046365</td>\n",
       "      <td>633.605901</td>\n",
       "      <td>278.068230</td>\n",
       "      <td>88.614067</td>\n",
       "      <td>197.067439</td>\n",
       "    </tr>\n",
       "    <tr>\n",
       "      <th>16</th>\n",
       "      <td>259.755564</td>\n",
       "      <td>30.668326</td>\n",
       "      <td>627.791154</td>\n",
       "      <td>234.140764</td>\n",
       "      <td>84.505400</td>\n",
       "      <td>193.598648</td>\n",
       "    </tr>\n",
       "    <tr>\n",
       "      <th>17</th>\n",
       "      <td>213.127310</td>\n",
       "      <td>27.402971</td>\n",
       "      <td>634.090276</td>\n",
       "      <td>265.433466</td>\n",
       "      <td>85.473415</td>\n",
       "      <td>204.458985</td>\n",
       "    </tr>\n",
       "    <tr>\n",
       "      <th>18</th>\n",
       "      <td>276.632732</td>\n",
       "      <td>28.150773</td>\n",
       "      <td>623.689433</td>\n",
       "      <td>228.929124</td>\n",
       "      <td>77.635309</td>\n",
       "      <td>195.533505</td>\n",
       "    </tr>\n",
       "    <tr>\n",
       "      <th>19</th>\n",
       "      <td>242.543665</td>\n",
       "      <td>38.748482</td>\n",
       "      <td>620.643770</td>\n",
       "      <td>217.542408</td>\n",
       "      <td>85.011518</td>\n",
       "      <td>227.397277</td>\n",
       "    </tr>\n",
       "    <tr>\n",
       "      <th>20</th>\n",
       "      <td>267.434540</td>\n",
       "      <td>34.626066</td>\n",
       "      <td>618.612533</td>\n",
       "      <td>220.413651</td>\n",
       "      <td>74.867608</td>\n",
       "      <td>215.272433</td>\n",
       "    </tr>\n",
       "    <tr>\n",
       "      <th>21</th>\n",
       "      <td>255.211418</td>\n",
       "      <td>27.747779</td>\n",
       "      <td>619.686739</td>\n",
       "      <td>221.240375</td>\n",
       "      <td>80.324120</td>\n",
       "      <td>227.167160</td>\n",
       "    </tr>\n",
       "    <tr>\n",
       "      <th>22</th>\n",
       "      <td>259.090480</td>\n",
       "      <td>30.229106</td>\n",
       "      <td>623.946584</td>\n",
       "      <td>203.973292</td>\n",
       "      <td>78.455487</td>\n",
       "      <td>235.025073</td>\n",
       "    </tr>\n",
       "  </tbody>\n",
       "</table>\n",
       "</div>"
      ],
      "text/plain": [
       "                Work  Work Obligations  Physiological Needs  \\\n",
       "trdtocc1                                                      \n",
       "1         270.683221         31.817362           611.185980   \n",
       "2         239.279690         30.694024           620.980144   \n",
       "3         243.123596         30.102408           618.103371   \n",
       "4         250.236729         31.401541           612.805223   \n",
       "5         241.923328         29.896411           620.863785   \n",
       "6         239.540960         33.110640           617.599341   \n",
       "7         237.874829         31.705198           622.075239   \n",
       "8         199.003361         26.023917           627.971946   \n",
       "9         229.446381         35.616175           622.167560   \n",
       "10        250.895206         30.498380           615.300292   \n",
       "11        234.394641         29.564758           633.660577   \n",
       "12        281.542297         36.754230           597.183882   \n",
       "13        246.934748         28.856813           638.853585   \n",
       "14        207.004286         32.883258           638.851488   \n",
       "15        204.252634         27.046365           633.605901   \n",
       "16        259.755564         30.668326           627.791154   \n",
       "17        213.127310         27.402971           634.090276   \n",
       "18        276.632732         28.150773           623.689433   \n",
       "19        242.543665         38.748482           620.643770   \n",
       "20        267.434540         34.626066           618.612533   \n",
       "21        255.211418         27.747779           619.686739   \n",
       "22        259.090480         30.229106           623.946584   \n",
       "\n",
       "          Non-work Obligations  Active Leisure  Passive Leisure  \n",
       "trdtocc1                                                         \n",
       "1                   249.244657       91.086267       176.358281  \n",
       "2                   260.142398       93.788011       184.569213  \n",
       "3                   244.128732       92.481862       202.431461  \n",
       "4                   255.783818       92.792380       187.434932  \n",
       "5                   268.460848       99.548940       168.765090  \n",
       "6                   274.206215       85.572976       179.326271  \n",
       "7                   258.822845      106.738714       171.419973  \n",
       "8                   296.603878      102.075760       175.891273  \n",
       "9                   262.750223      100.276586       178.155496  \n",
       "10                  280.425170       88.331552       164.201166  \n",
       "11                  267.683313       76.554608       188.209095  \n",
       "12                  229.334372       80.161175       206.136242  \n",
       "13                  231.996080       75.366152       207.870417  \n",
       "14                  241.199445       75.975038       233.368886  \n",
       "15                  278.068230       88.614067       197.067439  \n",
       "16                  234.140764       84.505400       193.598648  \n",
       "17                  265.433466       85.473415       204.458985  \n",
       "18                  228.929124       77.635309       195.533505  \n",
       "19                  217.542408       85.011518       227.397277  \n",
       "20                  220.413651       74.867608       215.272433  \n",
       "21                  221.240375       80.324120       227.167160  \n",
       "22                  203.973292       78.455487       235.025073  "
      ]
     },
     "execution_count": 30,
     "metadata": {},
     "output_type": "execute_result"
    }
   ],
   "source": [
    "ATUS_category_data.groupby('trdtocc1').mean()"
   ]
  },
  {
   "cell_type": "markdown",
   "metadata": {},
   "source": [
    "### Analyze"
   ]
  },
  {
   "cell_type": "code",
   "execution_count": 31,
   "metadata": {},
   "outputs": [
    {
     "data": {
      "text/html": [
       "<div>\n",
       "<style scoped>\n",
       "    .dataframe tbody tr th:only-of-type {\n",
       "        vertical-align: middle;\n",
       "    }\n",
       "\n",
       "    .dataframe tbody tr th {\n",
       "        vertical-align: top;\n",
       "    }\n",
       "\n",
       "    .dataframe thead th {\n",
       "        text-align: right;\n",
       "    }\n",
       "</style>\n",
       "<table border=\"1\" class=\"dataframe\">\n",
       "  <thead>\n",
       "    <tr style=\"text-align: right;\">\n",
       "      <th></th>\n",
       "      <th>Work</th>\n",
       "      <th>Work Obligations</th>\n",
       "      <th>Physiological Needs</th>\n",
       "      <th>Non-work Obligations</th>\n",
       "      <th>Active Leisure</th>\n",
       "      <th>Passive Leisure</th>\n",
       "    </tr>\n",
       "    <tr>\n",
       "      <th>trdtocc1</th>\n",
       "      <th></th>\n",
       "      <th></th>\n",
       "      <th></th>\n",
       "      <th></th>\n",
       "      <th></th>\n",
       "      <th></th>\n",
       "    </tr>\n",
       "  </thead>\n",
       "  <tbody>\n",
       "    <tr>\n",
       "      <th>1</th>\n",
       "      <td>270.683221</td>\n",
       "      <td>31.817362</td>\n",
       "      <td>611.185980</td>\n",
       "      <td>249.244657</td>\n",
       "      <td>91.086267</td>\n",
       "      <td>176.358281</td>\n",
       "    </tr>\n",
       "    <tr>\n",
       "      <th>2</th>\n",
       "      <td>259.090480</td>\n",
       "      <td>30.229106</td>\n",
       "      <td>623.946584</td>\n",
       "      <td>203.973292</td>\n",
       "      <td>78.455487</td>\n",
       "      <td>235.025073</td>\n",
       "    </tr>\n",
       "  </tbody>\n",
       "</table>\n",
       "</div>"
      ],
      "text/plain": [
       "                Work  Work Obligations  Physiological Needs  \\\n",
       "trdtocc1                                                      \n",
       "1         270.683221         31.817362           611.185980   \n",
       "2         259.090480         30.229106           623.946584   \n",
       "\n",
       "          Non-work Obligations  Active Leisure  Passive Leisure  \n",
       "trdtocc1                                                         \n",
       "1                   249.244657       91.086267       176.358281  \n",
       "2                   203.973292       78.455487       235.025073  "
      ]
     },
     "execution_count": 31,
     "metadata": {},
     "output_type": "execute_result"
    }
   ],
   "source": [
    "# Let's see if the high autonomony group (1) and low autonomy group (2)\n",
    "ATUS_category_data_lite.groupby('trdtocc1').mean()"
   ]
  },
  {
   "cell_type": "markdown",
   "metadata": {},
   "source": [
    "Between the two groups the high autonomy group has more active leisure than the low autonomy group. While the low autonomy group does more passive leisure than the high autonomy group, the passive leisure is much higher for both groups."
   ]
  },
  {
   "cell_type": "markdown",
   "metadata": {},
   "source": [
    "**Regression**\n",
    "\n",
    "Inspired by [Data Driven Science and Engineering](http://www.databookuw.com/) by Steve L. Brunton and J. Nathan Kutz \n"
   ]
  },
  {
   "cell_type": "code",
   "execution_count": 32,
   "metadata": {},
   "outputs": [],
   "source": [
    "def SVD_Regression(df, column):\n",
    "    '''\n",
    "    This program computes a regression from a single value decomposition. We generate and approximate x for an Ax = b.\n",
    "    \n",
    "    inputs:\n",
    "    df - a dataframe\n",
    "    column - string, our target column\n",
    "    \n",
    "    returns\n",
    "    A is the matrix.\n",
    "    b is the target column.\n",
    "    b_x is the generated b\n",
    "    '''\n",
    "    #get our matrix and target column\n",
    "    b = df[column] # occupations\n",
    "    A = df.drop(columns=[column]) # activities\n",
    "    \n",
    "    #generate the values from SVD\n",
    "    U, S, VT = np.linalg.svd(A,full_matrices=0)\n",
    "    \n",
    "    #find x by multiplying the target column by the pseudo-inverse of the matrix\n",
    "    x = VT.T @ np.linalg.inv(np.diag(S)) @ U.T @ b\n",
    "    \n",
    "    return A, b, x"
   ]
  },
  {
   "cell_type": "code",
   "execution_count": 33,
   "metadata": {},
   "outputs": [],
   "source": [
    "def SVD_Regression_Results(A, x, b):\n",
    "    '''\n",
    "    This function calculates the mean difference between the actual b column and our generated b column.\n",
    "    It prints the rounded mean of the absolute difference.\n",
    "    \n",
    "    inputs:\n",
    "    A is the matrix.\n",
    "    b is the target column.\n",
    "    b_x is the generated b\n",
    "    \n",
    "    returns:\n",
    "    none\n",
    "    '''\n",
    "    #set up lists for our differences\n",
    "    b_diffs = []\n",
    "    b_diffs_abs = []\n",
    "    \n",
    "    #rest the indexes to make looping easier\n",
    "    b.reset_index(drop=True, inplace=True)\n",
    "    \n",
    "    #generate our expected b values\n",
    "    b_x = A @ x\n",
    "    b_x.reset_index(drop=True, inplace=True)\n",
    "    \n",
    "    #loop through the columns to find the differences (and absolute differences) in the values\n",
    "    for i in range(len(b)):\n",
    "        b_diffs_abs.append(abs(b[i] - b_x[i]))\n",
    "        b_diffs.append(b[i] - b_x[i])\n",
    "        \n",
    "    # calculate and print the mean\n",
    "    b_mean = round(sum(b_diffs_abs) / len(b_diffs_abs), 1)\n",
    "    print('The average of the absolute difference between actual b and expected b is: ' + b_mean)\n",
    "    \n",
    "    #visualize the differences and absolute differences\n",
    "    SVD_viz(b_diffs, 'Difference between actual b and expected b')\n",
    "    SVD_viz(b_diffs_abs, 'Absolute difference between actual b and expected b')"
   ]
  },
  {
   "cell_type": "code",
   "execution_count": 34,
   "metadata": {},
   "outputs": [],
   "source": [
    "def SVD_viz(data, title):\n",
    "    '''\n",
    "    This function displays a histogram of the spread of differences.\n",
    "    \n",
    "    Inputs:\n",
    "    data: list, the differences betwen b and expected b\n",
    "    title: string, title of the graph\n",
    "    \n",
    "    returns:\n",
    "    none\n",
    "    '''\n",
    "    #generate graph\n",
    "    plt.subplot()\n",
    "    plt.hist(data, 20)\n",
    "\n",
    "    #label graph and print\n",
    "    plt.xlabel('Difference')\n",
    "    plt.ylabel('Count')\n",
    "    plt.title(title)\n",
    "    plt.show()"
   ]
  },
  {
   "cell_type": "markdown",
   "metadata": {},
   "source": [
    "#### `ATUS_category_data_lite`"
   ]
  },
  {
   "cell_type": "code",
   "execution_count": 35,
   "metadata": {},
   "outputs": [],
   "source": [
    "A, b, x = SVD_Regression(ATUS_category_data_lite,'trdtocc1')"
   ]
  },
  {
   "cell_type": "code",
   "execution_count": 36,
   "metadata": {},
   "outputs": [
    {
     "name": "stdout",
     "output_type": "stream",
     "text": [
      "0.40541349649258174\n"
     ]
    },
    {
     "data": {
      "image/png": "[encoded data removed]",
      "text/plain": [
       "<Figure size 432x288 with 1 Axes>"
      ]
     },
     "metadata": {
      "needs_background": "light"
     },
     "output_type": "display_data"
    },
    {
     "data": {
      "image/png": "[encoded data removed]",
      "text/plain": [
       "<Figure size 432x288 with 1 Axes>"
      ]
     },
     "metadata": {
      "needs_background": "light"
     },
     "output_type": "display_data"
    }
   ],
   "source": [
    "SVD_Regression_Results(A, x, b)"
   ]
  },
  {
   "cell_type": "markdown",
   "metadata": {},
   "source": [
    "#### `ATUS_category_data`"
   ]
  },
  {
   "cell_type": "code",
   "execution_count": 37,
   "metadata": {},
   "outputs": [],
   "source": [
    "A, b, x = SVD_Regression(ATUS_category_data,'trdtocc1')"
   ]
  },
  {
   "cell_type": "code",
   "execution_count": 38,
   "metadata": {},
   "outputs": [
    {
     "name": "stdout",
     "output_type": "stream",
     "text": [
      "5.8860930495506505\n"
     ]
    },
    {
     "data": {
      "image/png": "[encoded data removed]",
      "text/plain": [
       "<Figure size 432x288 with 1 Axes>"
      ]
     },
     "metadata": {
      "needs_background": "light"
     },
     "output_type": "display_data"
    },
    {
     "data": {
      "image/png": "[encoded data removed]",
      "text/plain": [
       "<Figure size 432x288 with 1 Axes>"
      ]
     },
     "metadata": {
      "needs_background": "light"
     },
     "output_type": "display_data"
    }
   ],
   "source": [
    "SVD_Regression_Results(A, x, b)"
   ]
  },
  {
   "cell_type": "markdown",
   "metadata": {},
   "source": [
    "#### `ATUS_data`"
   ]
  },
  {
   "cell_type": "code",
   "execution_count": 39,
   "metadata": {},
   "outputs": [],
   "source": [
    "A, b, x = SVD_Regression(ATUS_data,'trdtocc1')"
   ]
  },
  {
   "cell_type": "code",
   "execution_count": 40,
   "metadata": {},
   "outputs": [
    {
     "name": "stdout",
     "output_type": "stream",
     "text": [
      "5.672913528889555\n"
     ]
    },
    {
     "data": {
      "image/png": "[encoded data removed]",
      "text/plain": [
       "<Figure size 432x288 with 1 Axes>"
      ]
     },
     "metadata": {
      "needs_background": "light"
     },
     "output_type": "display_data"
    },
    {
     "data": {
      "image/png": "[encoded data removed]",
      "text/plain": [
       "<Figure size 432x288 with 1 Axes>"
      ]
     },
     "metadata": {
      "needs_background": "light"
     },
     "output_type": "display_data"
    }
   ],
   "source": [
    "SVD_Regression_Results(A, x, b)"
   ]
  },
  {
   "cell_type": "markdown",
   "metadata": {},
   "source": [
    "### Model\n",
    "\n",
    "**Regression Machine Learning**\n",
    "\n",
    "Inspired by Data Driven Science and Engineering by Steve L. Brunton and J. Nathan Kutz \n",
    "http://www.databookuw.com/"
   ]
  },
  {
   "cell_type": "code",
   "execution_count": 41,
   "metadata": {},
   "outputs": [],
   "source": [
    "def SVD_Regression_Predict(df, column, n):\n",
    "    '''\n",
    "    This function uses the SVD to see if we can predict the values of our target column with a seperate set of data.\n",
    "    \n",
    "    inputs:\n",
    "    df - a dataframe\n",
    "    column - string, our target column\n",
    "    n = int, size of the test dataframe\n",
    "    \n",
    "    returns:\n",
    "    none\n",
    "    '''\n",
    "\n",
    "    #shuffle up the dataset\n",
    "    df_p = df.sample(frac=1)\n",
    "    \n",
    "    #split the data into train and test sets\n",
    "    \n",
    "    #create train dataset\n",
    "    df_train = df_p[1:n]\n",
    "\n",
    "    #create test dataset\n",
    "    df_test = df_p[n:]\n",
    "    #create the matrix and target column of the test\n",
    "    A_test = df_test.drop(columns=[column]) \n",
    "    b_test = df_test[column]\n",
    "    \n",
    "    #get the x back from the SVD regression function\n",
    "    A_train, b_train, x = SVD_Regression(df_train, column)\n",
    "    \n",
    "    #send to the results funtion (and visualization function)\n",
    "    SVD_Regression_Results(A_test, x, b_test)"
   ]
  },
  {
   "cell_type": "markdown",
   "metadata": {},
   "source": [
    "#### `ATUS_category_data_lite`"
   ]
  },
  {
   "cell_type": "code",
   "execution_count": 42,
   "metadata": {},
   "outputs": [
    {
     "name": "stdout",
     "output_type": "stream",
     "text": [
      "0.4052630864487784\n"
     ]
    },
    {
     "data": {
      "image/png": "[encoded data removed]",
      "text/plain": [
       "<Figure size 432x288 with 1 Axes>"
      ]
     },
     "metadata": {
      "needs_background": "light"
     },
     "output_type": "display_data"
    },
    {
     "data": {
      "image/png": "[encoded data removed]",
      "text/plain": [
       "<Figure size 432x288 with 1 Axes>"
      ]
     },
     "metadata": {
      "needs_background": "light"
     },
     "output_type": "display_data"
    }
   ],
   "source": [
    "SVD_Regression_Predict(ATUS_category_data_lite,'trdtocc1', 10000)"
   ]
  },
  {
   "cell_type": "markdown",
   "metadata": {},
   "source": [
    "#### `ATUS_category_data`"
   ]
  },
  {
   "cell_type": "code",
   "execution_count": 43,
   "metadata": {},
   "outputs": [
    {
     "name": "stdout",
     "output_type": "stream",
     "text": [
      "5.934403158303475\n"
     ]
    },
    {
     "data": {
      "image/png": "[encoded data removed]",
      "text/plain": [
       "<Figure size 432x288 with 1 Axes>"
      ]
     },
     "metadata": {
      "needs_background": "light"
     },
     "output_type": "display_data"
    },
    {
     "data": {
      "image/png": "[encoded data removed]",
      "text/plain": [
       "<Figure size 432x288 with 1 Axes>"
      ]
     },
     "metadata": {
      "needs_background": "light"
     },
     "output_type": "display_data"
    }
   ],
   "source": [
    "SVD_Regression_Predict(ATUS_category_data,'trdtocc1', 100000)"
   ]
  },
  {
   "cell_type": "markdown",
   "metadata": {},
   "source": [
    "#### `ATUS_data`"
   ]
  },
  {
   "cell_type": "code",
   "execution_count": 45,
   "metadata": {},
   "outputs": [
    {
     "name": "stdout",
     "output_type": "stream",
     "text": [
      "5.7709005457512665\n"
     ]
    },
    {
     "data": {
      "image/png": "[encoded data removed]",
      "text/plain": [
       "<Figure size 432x288 with 1 Axes>"
      ]
     },
     "metadata": {
      "needs_background": "light"
     },
     "output_type": "display_data"
    },
    {
     "data": {
      "image/png": "[encoded data removed]",
      "text/plain": [
       "<Figure size 432x288 with 1 Axes>"
      ]
     },
     "metadata": {
      "needs_background": "light"
     },
     "output_type": "display_data"
    }
   ],
   "source": [
    "SVD_Regression_Predict(ATUS_data,'trdtocc1', 100000)"
   ]
  },
  {
   "cell_type": "markdown",
   "metadata": {},
   "source": [
    "## Conclusion"
   ]
  },
  {
   "cell_type": "markdown",
   "metadata": {},
   "source": [
    "As you can see from the graphs and means, the daily activities are not a good way to predict occupation. Although, to the credit of the SVD regression, the predicted values for the test were not much farther off from when we included those b values in the SVD. "
   ]
  }
 ],
 "metadata": {
  "kernelspec": {
   "display_name": "Python 3",
   "language": "python",
   "name": "python3"
  },
  "language_info": {
   "codemirror_mode": {
    "name": "ipython",
    "version": 3
   },
   "file_extension": ".py",
   "mimetype": "text/x-python",
   "name": "python",
   "nbconvert_exporter": "python",
   "pygments_lexer": "ipython3",
   "version": "3.8.5"
  }
 },
 "nbformat": 4,
 "nbformat_minor": 4
}
